{
 "cells": [
  {
   "cell_type": "code",
   "execution_count": 34,
   "metadata": {},
   "outputs": [
    {
     "name": "stdout",
     "output_type": "stream",
     "text": [
      "Requirement already satisfied: py2neo in /Users/rosee.m./opt/anaconda3/lib/python3.8/site-packages (2021.2.3)\n",
      "Requirement already satisfied: packaging in /Users/rosee.m./opt/anaconda3/lib/python3.8/site-packages (from py2neo) (20.4)\n",
      "Requirement already satisfied: urllib3 in /Users/rosee.m./opt/anaconda3/lib/python3.8/site-packages (from py2neo) (1.25.9)\n",
      "Requirement already satisfied: monotonic in /Users/rosee.m./opt/anaconda3/lib/python3.8/site-packages (from py2neo) (1.6)\n",
      "Requirement already satisfied: pygments>=2.0.0 in /Users/rosee.m./opt/anaconda3/lib/python3.8/site-packages (from py2neo) (2.6.1)\n",
      "Requirement already satisfied: pansi>=2020.7.3 in /Users/rosee.m./opt/anaconda3/lib/python3.8/site-packages (from py2neo) (2020.7.3)\n",
      "Requirement already satisfied: certifi in /Users/rosee.m./opt/anaconda3/lib/python3.8/site-packages (from py2neo) (2020.6.20)\n",
      "Requirement already satisfied: interchange~=2021.0.4 in /Users/rosee.m./opt/anaconda3/lib/python3.8/site-packages (from py2neo) (2021.0.4)\n",
      "Requirement already satisfied: six>=1.15.0 in /Users/rosee.m./opt/anaconda3/lib/python3.8/site-packages (from py2neo) (1.15.0)\n",
      "Requirement already satisfied: pytz in /Users/rosee.m./opt/anaconda3/lib/python3.8/site-packages (from interchange~=2021.0.4->py2neo) (2020.1)\n",
      "Requirement already satisfied: pyparsing>=2.0.2 in /Users/rosee.m./opt/anaconda3/lib/python3.8/site-packages (from packaging->py2neo) (2.4.7)\n",
      "\u001b[33mWARNING: There was an error checking the latest version of pip.\u001b[0m\u001b[33m\n",
      "\u001b[0m"
     ]
    }
   ],
   "source": [
    "!pip install py2neo"
   ]
  },
  {
   "cell_type": "code",
   "execution_count": 35,
   "metadata": {},
   "outputs": [],
   "source": [
    "from py2neo import Graph"
   ]
  },
  {
   "cell_type": "code",
   "execution_count": 36,
   "metadata": {},
   "outputs": [],
   "source": [
    "graph = Graph(\"bolt://localhost:7687\", auth=(\"neo4j\", \"password\"))"
   ]
  },
  {
   "cell_type": "code",
   "execution_count": 37,
   "metadata": {},
   "outputs": [
    {
     "data": {
      "text/plain": [
       "py2neo.database.Graph"
      ]
     },
     "execution_count": 37,
     "metadata": {},
     "output_type": "execute_result"
    }
   ],
   "source": [
    "type(graph)"
   ]
  },
  {
   "cell_type": "code",
   "execution_count": 1,
   "metadata": {},
   "outputs": [
    {
     "data": {
      "text/html": [
       "<div>\n",
       "<style scoped>\n",
       "    .dataframe tbody tr th:only-of-type {\n",
       "        vertical-align: middle;\n",
       "    }\n",
       "\n",
       "    .dataframe tbody tr th {\n",
       "        vertical-align: top;\n",
       "    }\n",
       "\n",
       "    .dataframe thead th {\n",
       "        text-align: right;\n",
       "    }\n",
       "</style>\n",
       "<table border=\"1\" class=\"dataframe\">\n",
       "  <thead>\n",
       "    <tr style=\"text-align: right;\">\n",
       "      <th></th>\n",
       "      <th>id</th>\n",
       "      <th>job</th>\n",
       "      <th>salary</th>\n",
       "      <th>typical educational requirement</th>\n",
       "      <th>percentile</th>\n",
       "      <th>salary_cat</th>\n",
       "    </tr>\n",
       "  </thead>\n",
       "  <tbody>\n",
       "    <tr>\n",
       "      <th>0</th>\n",
       "      <td>1</td>\n",
       "      <td>salesperson</td>\n",
       "      <td>40,000</td>\n",
       "      <td>bachelor's</td>\n",
       "      <td>45</td>\n",
       "      <td>medium</td>\n",
       "    </tr>\n",
       "    <tr>\n",
       "      <th>1</th>\n",
       "      <td>2</td>\n",
       "      <td>receptionist</td>\n",
       "      <td>30,000</td>\n",
       "      <td>high school diploma</td>\n",
       "      <td>34</td>\n",
       "      <td>medium</td>\n",
       "    </tr>\n",
       "    <tr>\n",
       "      <th>2</th>\n",
       "      <td>3</td>\n",
       "      <td>CEO</td>\n",
       "      <td>250,000</td>\n",
       "      <td>bachelor's</td>\n",
       "      <td>97</td>\n",
       "      <td>high</td>\n",
       "    </tr>\n",
       "    <tr>\n",
       "      <th>3</th>\n",
       "      <td>4</td>\n",
       "      <td>HR</td>\n",
       "      <td>50,000</td>\n",
       "      <td>bachelor's</td>\n",
       "      <td>55</td>\n",
       "      <td>medium</td>\n",
       "    </tr>\n",
       "    <tr>\n",
       "      <th>4</th>\n",
       "      <td>5</td>\n",
       "      <td>dock worker</td>\n",
       "      <td>30,000</td>\n",
       "      <td>high school diploma</td>\n",
       "      <td>34</td>\n",
       "      <td>medium</td>\n",
       "    </tr>\n",
       "    <tr>\n",
       "      <th>5</th>\n",
       "      <td>6</td>\n",
       "      <td>regional manager</td>\n",
       "      <td>60,000</td>\n",
       "      <td>bachelor's</td>\n",
       "      <td>64</td>\n",
       "      <td>medium</td>\n",
       "    </tr>\n",
       "    <tr>\n",
       "      <th>6</th>\n",
       "      <td>7</td>\n",
       "      <td>accountant</td>\n",
       "      <td>45,000</td>\n",
       "      <td>bachelor's</td>\n",
       "      <td>50</td>\n",
       "      <td>medium</td>\n",
       "    </tr>\n",
       "    <tr>\n",
       "      <th>7</th>\n",
       "      <td>8</td>\n",
       "      <td>customer service</td>\n",
       "      <td>35,000</td>\n",
       "      <td>high school diploma</td>\n",
       "      <td>40</td>\n",
       "      <td>medium</td>\n",
       "    </tr>\n",
       "    <tr>\n",
       "      <th>8</th>\n",
       "      <td>9</td>\n",
       "      <td>temp</td>\n",
       "      <td>15,000</td>\n",
       "      <td>bachelor's</td>\n",
       "      <td>15</td>\n",
       "      <td>low</td>\n",
       "    </tr>\n",
       "    <tr>\n",
       "      <th>9</th>\n",
       "      <td>10</td>\n",
       "      <td>quality assurance</td>\n",
       "      <td>50,000</td>\n",
       "      <td>bachelor's</td>\n",
       "      <td>55</td>\n",
       "      <td>medium</td>\n",
       "    </tr>\n",
       "    <tr>\n",
       "      <th>10</th>\n",
       "      <td>11</td>\n",
       "      <td>upper management</td>\n",
       "      <td>150,000</td>\n",
       "      <td>bachelor's</td>\n",
       "      <td>92</td>\n",
       "      <td>high</td>\n",
       "    </tr>\n",
       "    <tr>\n",
       "      <th>11</th>\n",
       "      <td>12</td>\n",
       "      <td>intern</td>\n",
       "      <td>10,000</td>\n",
       "      <td>high school diploma</td>\n",
       "      <td>11</td>\n",
       "      <td>low</td>\n",
       "    </tr>\n",
       "  </tbody>\n",
       "</table>\n",
       "</div>"
      ],
      "text/plain": [
       "    id                job   salary typical educational requirement  \\\n",
       "0    1        salesperson   40,000                      bachelor's   \n",
       "1    2       receptionist   30,000             high school diploma   \n",
       "2    3                CEO  250,000                      bachelor's   \n",
       "3    4                 HR   50,000                      bachelor's   \n",
       "4    5        dock worker   30,000             high school diploma   \n",
       "5    6   regional manager   60,000                      bachelor's   \n",
       "6    7         accountant   45,000                      bachelor's   \n",
       "7    8   customer service   35,000             high school diploma   \n",
       "8    9               temp   15,000                      bachelor's   \n",
       "9   10  quality assurance   50,000                      bachelor's   \n",
       "10  11   upper management  150,000                      bachelor's   \n",
       "11  12             intern   10,000             high school diploma   \n",
       "\n",
       "    percentile salary_cat  \n",
       "0           45     medium  \n",
       "1           34     medium  \n",
       "2           97       high  \n",
       "3           55     medium  \n",
       "4           34     medium  \n",
       "5           64     medium  \n",
       "6           50     medium  \n",
       "7           40     medium  \n",
       "8           15        low  \n",
       "9           55     medium  \n",
       "10          92       high  \n",
       "11          11        low  "
      ]
     },
     "execution_count": 1,
     "metadata": {},
     "output_type": "execute_result"
    }
   ],
   "source": [
    "import pandas as pd\n",
    "df_empl = pd.read_csv(\"employees.csv\") #employee info\n",
    "df_act = pd.read_csv(\"actors.csv\") #actor info\n",
    "df_hobby = pd.read_csv(\"hobby.csv\") #character hobby info\n",
    "df_hob_pop = pd.read_csv(\"hobby_popularity.csv\") #hobby popularity\n",
    "df_jobs = pd.read_csv(\"jobs.csv\") #character dunder mif job\n",
    "df_jobs\n"
   ]
  },
  {
   "cell_type": "code",
   "execution_count": 42,
   "metadata": {
    "scrolled": true
   },
   "outputs": [],
   "source": [
    "graph.run(\"MATCH (n) DETACH DELETE n\")\n",
    "from py2neo import Node\n",
    "list = []\n",
    "\n",
    "# populate db with all office character\n",
    "for i in range(0,len(df_empl)):\n",
    "    person = Node(\"Person\", name = df_empl['Employee_Name'].iloc[i], branch = df_empl['last_branch'].iloc[i], episodes = (df_empl['episodes'].iloc[i]).item())\n",
    "    graph.create(person)\n",
    "    \n",
    "# populate db with all office jobs\n",
    "for i in range(0, len(df_jobs)):\n",
    "    job = Node(\"Job\", name = (df_jobs['job'].iloc[i]).title(), salary = df_jobs['salary'].iloc[i], education = df_jobs['typical_educational_requirement'].iloc[i])\n",
    "    graph.create(job)\n"
   ]
  },
  {
   "cell_type": "code",
   "execution_count": 98,
   "metadata": {},
   "outputs": [],
   "source": [
    "from py2neo import Relationship\n",
    "WorksAs = Relationship.type(\"WORKS_AS\")\n",
    "\n",
    "from py2neo import Graph, NodeMatcher\n",
    "#graph = Graph(\"bolt://localhost:7687\", auth=(\"neo4j\", \"password\"))\n",
    "matcher = NodeMatcher(graph)\n",
    "\n",
    "for i in range(0,len(df_empl)):\n",
    "    empl_job = df_jobs[df_jobs['id'] == df_empl[\"job_ID\"].iloc[i].item()][[\"job\"]].iloc[0][0].title()\n",
    "    per = df_empl[\"Employee_Name\"].iloc[i]\n",
    "    per_node = matcher.match(\"Person\").where(name=per).first()\n",
    "    empl_node = matcher.match(\"Job\").where(name=empl_job).first()\n",
    "    graph.create(WorksAs(per_node, empl_node))\n",
    "        "
   ]
  },
  {
   "cell_type": "code",
   "execution_count": 87,
   "metadata": {},
   "outputs": [
    {
     "data": {
      "text/plain": [
       "'Michael Scott'"
      ]
     },
     "execution_count": 87,
     "metadata": {},
     "output_type": "execute_result"
    }
   ],
   "source": []
  },
  {
   "cell_type": "code",
   "execution_count": 97,
   "metadata": {},
   "outputs": [
    {
     "data": {
      "text/plain": [
       "Node('Job', education=\"bachelor's\", name='Regional Manager', salary='60,000')"
      ]
     },
     "execution_count": 97,
     "metadata": {},
     "output_type": "execute_result"
    }
   ],
   "source": []
  },
  {
   "cell_type": "code",
   "execution_count": 93,
   "metadata": {},
   "outputs": [
    {
     "name": "stdout",
     "output_type": "stream",
     "text": [
      "\"_.name = 'Michael Scott'\"\n"
     ]
    }
   ],
   "source": []
  },
  {
   "cell_type": "code",
   "execution_count": null,
   "metadata": {},
   "outputs": [],
   "source": []
  },
  {
   "cell_type": "code",
   "execution_count": null,
   "metadata": {},
   "outputs": [],
   "source": []
  }
 ],
 "metadata": {
  "kernelspec": {
   "display_name": "Python 3 (ipykernel)",
   "language": "python",
   "name": "python3"
  },
  "language_info": {
   "codemirror_mode": {
    "name": "ipython",
    "version": 3
   },
   "file_extension": ".py",
   "mimetype": "text/x-python",
   "name": "python",
   "nbconvert_exporter": "python",
   "pygments_lexer": "ipython3",
   "version": "3.9.12"
  }
 },
 "nbformat": 4,
 "nbformat_minor": 4
}
