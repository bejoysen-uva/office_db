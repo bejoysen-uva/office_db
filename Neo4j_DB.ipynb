{
 "cells": [
  {
   "cell_type": "code",
   "execution_count": 34,
   "metadata": {},
   "outputs": [
    {
     "name": "stdout",
     "output_type": "stream",
     "text": [
      "Requirement already satisfied: py2neo in /Users/rosee.m./opt/anaconda3/lib/python3.8/site-packages (2021.2.3)\n",
      "Requirement already satisfied: packaging in /Users/rosee.m./opt/anaconda3/lib/python3.8/site-packages (from py2neo) (20.4)\n",
      "Requirement already satisfied: urllib3 in /Users/rosee.m./opt/anaconda3/lib/python3.8/site-packages (from py2neo) (1.25.9)\n",
      "Requirement already satisfied: monotonic in /Users/rosee.m./opt/anaconda3/lib/python3.8/site-packages (from py2neo) (1.6)\n",
      "Requirement already satisfied: pygments>=2.0.0 in /Users/rosee.m./opt/anaconda3/lib/python3.8/site-packages (from py2neo) (2.6.1)\n",
      "Requirement already satisfied: pansi>=2020.7.3 in /Users/rosee.m./opt/anaconda3/lib/python3.8/site-packages (from py2neo) (2020.7.3)\n",
      "Requirement already satisfied: certifi in /Users/rosee.m./opt/anaconda3/lib/python3.8/site-packages (from py2neo) (2020.6.20)\n",
      "Requirement already satisfied: interchange~=2021.0.4 in /Users/rosee.m./opt/anaconda3/lib/python3.8/site-packages (from py2neo) (2021.0.4)\n",
      "Requirement already satisfied: six>=1.15.0 in /Users/rosee.m./opt/anaconda3/lib/python3.8/site-packages (from py2neo) (1.15.0)\n",
      "Requirement already satisfied: pytz in /Users/rosee.m./opt/anaconda3/lib/python3.8/site-packages (from interchange~=2021.0.4->py2neo) (2020.1)\n",
      "Requirement already satisfied: pyparsing>=2.0.2 in /Users/rosee.m./opt/anaconda3/lib/python3.8/site-packages (from packaging->py2neo) (2.4.7)\n",
      "\u001b[33mWARNING: There was an error checking the latest version of pip.\u001b[0m\u001b[33m\n",
      "\u001b[0m"
     ]
    }
   ],
   "source": [
    "!pip install py2neo"
   ]
  },
  {
   "cell_type": "code",
   "execution_count": 35,
   "metadata": {},
   "outputs": [],
   "source": [
    "from py2neo import Graph"
   ]
  },
  {
   "cell_type": "code",
   "execution_count": 36,
   "metadata": {},
   "outputs": [],
   "source": [
    "graph = Graph(\"bolt://localhost:7687\", auth=(\"neo4j\", \"password\"))"
   ]
  },
  {
   "cell_type": "code",
   "execution_count": 37,
   "metadata": {},
   "outputs": [
    {
     "data": {
      "text/plain": [
       "py2neo.database.Graph"
      ]
     },
     "execution_count": 37,
     "metadata": {},
     "output_type": "execute_result"
    }
   ],
   "source": [
    "type(graph)"
   ]
  },
  {
   "cell_type": "code",
   "execution_count": 82,
   "metadata": {},
   "outputs": [
    {
     "data": {
      "text/html": [
       "<div>\n",
       "<style scoped>\n",
       "    .dataframe tbody tr th:only-of-type {\n",
       "        vertical-align: middle;\n",
       "    }\n",
       "\n",
       "    .dataframe tbody tr th {\n",
       "        vertical-align: top;\n",
       "    }\n",
       "\n",
       "    .dataframe thead th {\n",
       "        text-align: right;\n",
       "    }\n",
       "</style>\n",
       "<table border=\"1\" class=\"dataframe\">\n",
       "  <thead>\n",
       "    <tr style=\"text-align: right;\">\n",
       "      <th></th>\n",
       "      <th>Employee_ID</th>\n",
       "      <th>Employee_Name</th>\n",
       "      <th>job_ID</th>\n",
       "      <th>is_main_character</th>\n",
       "      <th>years_at_office</th>\n",
       "      <th>last_branch</th>\n",
       "      <th>actor_ID</th>\n",
       "      <th>hobby_ID</th>\n",
       "      <th>episodes</th>\n",
       "    </tr>\n",
       "  </thead>\n",
       "  <tbody>\n",
       "    <tr>\n",
       "      <th>0</th>\n",
       "      <td>1</td>\n",
       "      <td>Michael Scott</td>\n",
       "      <td>6</td>\n",
       "      <td>True</td>\n",
       "      <td>18</td>\n",
       "      <td>Scranton</td>\n",
       "      <td>1</td>\n",
       "      <td>1</td>\n",
       "      <td>140</td>\n",
       "    </tr>\n",
       "    <tr>\n",
       "      <th>1</th>\n",
       "      <td>2</td>\n",
       "      <td>Jim Halpert</td>\n",
       "      <td>1</td>\n",
       "      <td>True</td>\n",
       "      <td>12</td>\n",
       "      <td>Scranton</td>\n",
       "      <td>2</td>\n",
       "      <td>2</td>\n",
       "      <td>186</td>\n",
       "    </tr>\n",
       "    <tr>\n",
       "      <th>2</th>\n",
       "      <td>3</td>\n",
       "      <td>Pam Beesly</td>\n",
       "      <td>2</td>\n",
       "      <td>True</td>\n",
       "      <td>10</td>\n",
       "      <td>Scranton</td>\n",
       "      <td>3</td>\n",
       "      <td>3</td>\n",
       "      <td>186</td>\n",
       "    </tr>\n",
       "    <tr>\n",
       "      <th>3</th>\n",
       "      <td>4</td>\n",
       "      <td>Dwight Schrute</td>\n",
       "      <td>1</td>\n",
       "      <td>True</td>\n",
       "      <td>14</td>\n",
       "      <td>Scranton</td>\n",
       "      <td>4</td>\n",
       "      <td>4</td>\n",
       "      <td>182</td>\n",
       "    </tr>\n",
       "    <tr>\n",
       "      <th>4</th>\n",
       "      <td>5</td>\n",
       "      <td>Angela Martin</td>\n",
       "      <td>7</td>\n",
       "      <td>True</td>\n",
       "      <td>12</td>\n",
       "      <td>Scranton</td>\n",
       "      <td>9</td>\n",
       "      <td>5</td>\n",
       "      <td>156</td>\n",
       "    </tr>\n",
       "    <tr>\n",
       "      <th>5</th>\n",
       "      <td>6</td>\n",
       "      <td>Andy Bernard</td>\n",
       "      <td>1</td>\n",
       "      <td>True</td>\n",
       "      <td>8</td>\n",
       "      <td>Scranton</td>\n",
       "      <td>6</td>\n",
       "      <td>6</td>\n",
       "      <td>144</td>\n",
       "    </tr>\n",
       "    <tr>\n",
       "      <th>6</th>\n",
       "      <td>7</td>\n",
       "      <td>Toby Flenderson</td>\n",
       "      <td>4</td>\n",
       "      <td>False</td>\n",
       "      <td>12</td>\n",
       "      <td>Scranton</td>\n",
       "      <td>8</td>\n",
       "      <td>7</td>\n",
       "      <td>153</td>\n",
       "    </tr>\n",
       "    <tr>\n",
       "      <th>7</th>\n",
       "      <td>8</td>\n",
       "      <td>Ryan Howard</td>\n",
       "      <td>9</td>\n",
       "      <td>False</td>\n",
       "      <td>8</td>\n",
       "      <td>Scranton</td>\n",
       "      <td>7</td>\n",
       "      <td>8</td>\n",
       "      <td>136</td>\n",
       "    </tr>\n",
       "    <tr>\n",
       "      <th>8</th>\n",
       "      <td>9</td>\n",
       "      <td>Kelly Kapoor</td>\n",
       "      <td>8</td>\n",
       "      <td>True</td>\n",
       "      <td>12</td>\n",
       "      <td>Scranton</td>\n",
       "      <td>5</td>\n",
       "      <td>9</td>\n",
       "      <td>186</td>\n",
       "    </tr>\n",
       "    <tr>\n",
       "      <th>9</th>\n",
       "      <td>10</td>\n",
       "      <td>Creed Bratton</td>\n",
       "      <td>10</td>\n",
       "      <td>False</td>\n",
       "      <td>16</td>\n",
       "      <td>Scranton</td>\n",
       "      <td>14</td>\n",
       "      <td>10</td>\n",
       "      <td>186</td>\n",
       "    </tr>\n",
       "    <tr>\n",
       "      <th>10</th>\n",
       "      <td>11</td>\n",
       "      <td>Kevin Malone</td>\n",
       "      <td>7</td>\n",
       "      <td>False</td>\n",
       "      <td>12</td>\n",
       "      <td>Scranton</td>\n",
       "      <td>10</td>\n",
       "      <td>11</td>\n",
       "      <td>184</td>\n",
       "    </tr>\n",
       "    <tr>\n",
       "      <th>11</th>\n",
       "      <td>12</td>\n",
       "      <td>Jan Levinson</td>\n",
       "      <td>11</td>\n",
       "      <td>False</td>\n",
       "      <td>12</td>\n",
       "      <td>NaN</td>\n",
       "      <td>18</td>\n",
       "      <td>13</td>\n",
       "      <td>174</td>\n",
       "    </tr>\n",
       "    <tr>\n",
       "      <th>12</th>\n",
       "      <td>13</td>\n",
       "      <td>Darryl Philbin</td>\n",
       "      <td>5</td>\n",
       "      <td>False</td>\n",
       "      <td>9</td>\n",
       "      <td>Scranton</td>\n",
       "      <td>17</td>\n",
       "      <td>12</td>\n",
       "      <td>101</td>\n",
       "    </tr>\n",
       "    <tr>\n",
       "      <th>13</th>\n",
       "      <td>14</td>\n",
       "      <td>Stanley Hudson</td>\n",
       "      <td>1</td>\n",
       "      <td>True</td>\n",
       "      <td>24</td>\n",
       "      <td>Scranton</td>\n",
       "      <td>15</td>\n",
       "      <td>16</td>\n",
       "      <td>186</td>\n",
       "    </tr>\n",
       "    <tr>\n",
       "      <th>14</th>\n",
       "      <td>15</td>\n",
       "      <td>Phyllis Vance</td>\n",
       "      <td>1</td>\n",
       "      <td>True</td>\n",
       "      <td>19</td>\n",
       "      <td>Scranton</td>\n",
       "      <td>11</td>\n",
       "      <td>17</td>\n",
       "      <td>186</td>\n",
       "    </tr>\n",
       "    <tr>\n",
       "      <th>15</th>\n",
       "      <td>16</td>\n",
       "      <td>Erin Hannon</td>\n",
       "      <td>2</td>\n",
       "      <td>False</td>\n",
       "      <td>5</td>\n",
       "      <td>Scranton</td>\n",
       "      <td>13</td>\n",
       "      <td>18</td>\n",
       "      <td>184</td>\n",
       "    </tr>\n",
       "    <tr>\n",
       "      <th>16</th>\n",
       "      <td>17</td>\n",
       "      <td>Oscar Martinez</td>\n",
       "      <td>7</td>\n",
       "      <td>True</td>\n",
       "      <td>12</td>\n",
       "      <td>Scranton</td>\n",
       "      <td>12</td>\n",
       "      <td>18</td>\n",
       "      <td>116</td>\n",
       "    </tr>\n",
       "  </tbody>\n",
       "</table>\n",
       "</div>"
      ],
      "text/plain": [
       "    Employee_ID    Employee_Name  job_ID  is_main_character  years_at_office  \\\n",
       "0             1    Michael Scott       6               True               18   \n",
       "1             2      Jim Halpert       1               True               12   \n",
       "2             3       Pam Beesly       2               True               10   \n",
       "3             4   Dwight Schrute       1               True               14   \n",
       "4             5    Angela Martin       7               True               12   \n",
       "5             6     Andy Bernard       1               True                8   \n",
       "6             7  Toby Flenderson       4              False               12   \n",
       "7             8      Ryan Howard       9              False                8   \n",
       "8             9     Kelly Kapoor       8               True               12   \n",
       "9            10    Creed Bratton      10              False               16   \n",
       "10           11     Kevin Malone       7              False               12   \n",
       "11           12     Jan Levinson      11              False               12   \n",
       "12           13   Darryl Philbin       5              False                9   \n",
       "13           14   Stanley Hudson       1               True               24   \n",
       "14           15    Phyllis Vance       1               True               19   \n",
       "15           16      Erin Hannon       2              False                5   \n",
       "16           17   Oscar Martinez       7               True               12   \n",
       "\n",
       "   last_branch  actor_ID  hobby_ID  episodes  \n",
       "0     Scranton         1         1       140  \n",
       "1     Scranton         2         2       186  \n",
       "2     Scranton         3         3       186  \n",
       "3     Scranton         4         4       182  \n",
       "4     Scranton         9         5       156  \n",
       "5     Scranton         6         6       144  \n",
       "6     Scranton         8         7       153  \n",
       "7     Scranton         7         8       136  \n",
       "8     Scranton         5         9       186  \n",
       "9     Scranton        14        10       186  \n",
       "10    Scranton        10        11       184  \n",
       "11         NaN        18        13       174  \n",
       "12    Scranton        17        12       101  \n",
       "13    Scranton        15        16       186  \n",
       "14    Scranton        11        17       186  \n",
       "15    Scranton        13        18       184  \n",
       "16    Scranton        12        18       116  "
      ]
     },
     "execution_count": 82,
     "metadata": {},
     "output_type": "execute_result"
    }
   ],
   "source": [
    "import pandas as pd\n",
    "df_empl = pd.read_csv(\"Project 2 launch - Employees (1).csv\") #employee info\n",
    "df_act = pd.read_csv(\"Project 2 launch - Actors.csv\") #actor info\n",
    "df_hobby = pd.read_csv(\"Project 2 launch - Hobby.csv\") #character hobby info\n",
    "df_hob_pop = pd.read_csv(\"Project 2 launch - Hobby Popularity (1).csv\") #hobby popularity\n",
    "df_jobs = pd.read_csv(\"Project 2 launch - Jobs.csv\") #character dunder mif job\n",
    "df_empl\n"
   ]
  },
  {
   "cell_type": "code",
   "execution_count": 42,
   "metadata": {
    "scrolled": true
   },
   "outputs": [],
   "source": [
    "graph.run(\"MATCH (n) DETACH DELETE n\")\n",
    "from py2neo import Node\n",
    "list = []\n",
    "\n",
    "# populate db with all office character\n",
    "for i in range(0,len(df_empl)):\n",
    "    person = Node(\"Person\", name = df_empl['Employee_Name'].iloc[i], branch = df_empl['last_branch'].iloc[i], episodes = (df_empl['episodes'].iloc[i]).item())\n",
    "    graph.create(person)\n",
    "    \n",
    "# populate db with all office jobs\n",
    "for i in range(0, len(df_jobs)):\n",
    "    job = Node(\"Job\", name = (df_jobs['job'].iloc[i]).title(), salary = df_jobs['salary'].iloc[i], education = df_jobs['typical_educational_requirement'].iloc[i])\n",
    "    graph.create(job)\n"
   ]
  },
  {
   "cell_type": "code",
   "execution_count": 86,
   "metadata": {},
   "outputs": [
    {
     "data": {
      "text/plain": [
       "str"
      ]
     },
     "execution_count": 86,
     "metadata": {},
     "output_type": "execute_result"
    }
   ],
   "source": [
    "from py2neo import Relationship\n",
    "WorksAs = Relationship.type(\"WORKS_AS\")\n",
    "\n",
    "from py2neo import Graph, NodeMatcher\n",
    "#graph = Graph(\"bolt://localhost:7687\", auth=(\"neo4j\", \"password\"))\n",
    "matcher = NodeMatcher(graph)\n",
    "\n",
    "for i in range(0,len(df_empl)):\n",
    "    empl_job = df_jobs[df_jobs['id'] == df_empl[\"job_ID\"].iloc[i].item()][[\"job\"]].iloc[0][0].title()\n",
    "    per = df_empl[\"Employee_Name\"].iloc[i]\n",
    "    per_node = \n",
    "    empl = \n",
    "    graph.create(WorksAs())\n",
    "        "
   ]
  },
  {
   "cell_type": "code",
   "execution_count": 87,
   "metadata": {},
   "outputs": [
    {
     "data": {
      "text/plain": [
       "'Michael Scott'"
      ]
     },
     "execution_count": 87,
     "metadata": {},
     "output_type": "execute_result"
    }
   ],
   "source": []
  },
  {
   "cell_type": "code",
   "execution_count": 97,
   "metadata": {},
   "outputs": [
    {
     "data": {
      "text/plain": [
       "Node('Job', education=\"bachelor's\", name='Regional Manager', salary='60,000')"
      ]
     },
     "execution_count": 97,
     "metadata": {},
     "output_type": "execute_result"
    }
   ],
   "source": [
    "from py2neo import Graph, NodeMatcher\n",
    "#graph = Graph(\"bolt://localhost:7687\", auth=(\"neo4j\", \"password\"))\n",
    "matcher = NodeMatcher(graph)\n",
    "\n",
    "empl_job = df_jobs[df_jobs['id'] == df_empl[\"job_ID\"].iloc[0].item()][[\"job\"]].iloc[0][0].title()\n",
    "\n",
    "matcher.match(\"Person\").where(name=df_empl[\"Employee_Name\"].iloc[0]).first()\n",
    "matcher.match(\"Job\").where(name=empl_job).first()"
   ]
  },
  {
   "cell_type": "code",
   "execution_count": 93,
   "metadata": {},
   "outputs": [
    {
     "name": "stdout",
     "output_type": "stream",
     "text": [
      "\"_.name = 'Michael Scott'\"\n"
     ]
    }
   ],
   "source": [
    "string = '\"'+\"_.name = '\" + df_empl[\"Employee_Name\"].iloc[0] + \"'\"+'\"'\n",
    "print(string)"
   ]
  },
  {
   "cell_type": "code",
   "execution_count": null,
   "metadata": {},
   "outputs": [],
   "source": []
  },
  {
   "cell_type": "code",
   "execution_count": null,
   "metadata": {},
   "outputs": [],
   "source": []
  }
 ],
 "metadata": {
  "kernelspec": {
   "display_name": "Python 3",
   "language": "python",
   "name": "python3"
  },
  "language_info": {
   "codemirror_mode": {
    "name": "ipython",
    "version": 3
   },
   "file_extension": ".py",
   "mimetype": "text/x-python",
   "name": "python",
   "nbconvert_exporter": "python",
   "pygments_lexer": "ipython3",
   "version": "3.8.3"
  }
 },
 "nbformat": 4,
 "nbformat_minor": 4
}
