{
 "cells": [
  {
   "cell_type": "code",
   "execution_count": 3,
   "metadata": {},
   "outputs": [
    {
     "name": "stdout",
     "output_type": "stream",
     "text": [
      "Requirement already satisfied: py2neo in /Users/rosee.m./opt/anaconda3/lib/python3.8/site-packages (2021.2.3)\n",
      "Requirement already satisfied: pygments>=2.0.0 in /Users/rosee.m./opt/anaconda3/lib/python3.8/site-packages (from py2neo) (2.6.1)\n",
      "Requirement already satisfied: certifi in /Users/rosee.m./opt/anaconda3/lib/python3.8/site-packages (from py2neo) (2020.6.20)\n",
      "Requirement already satisfied: urllib3 in /Users/rosee.m./opt/anaconda3/lib/python3.8/site-packages (from py2neo) (1.25.9)\n",
      "Requirement already satisfied: packaging in /Users/rosee.m./opt/anaconda3/lib/python3.8/site-packages (from py2neo) (20.4)\n",
      "Requirement already satisfied: interchange~=2021.0.4 in /Users/rosee.m./opt/anaconda3/lib/python3.8/site-packages (from py2neo) (2021.0.4)\n",
      "Requirement already satisfied: monotonic in /Users/rosee.m./opt/anaconda3/lib/python3.8/site-packages (from py2neo) (1.6)\n",
      "Requirement already satisfied: pansi>=2020.7.3 in /Users/rosee.m./opt/anaconda3/lib/python3.8/site-packages (from py2neo) (2020.7.3)\n",
      "Requirement already satisfied: six>=1.15.0 in /Users/rosee.m./opt/anaconda3/lib/python3.8/site-packages (from py2neo) (1.15.0)\n",
      "Requirement already satisfied: pytz in /Users/rosee.m./opt/anaconda3/lib/python3.8/site-packages (from interchange~=2021.0.4->py2neo) (2020.1)\n",
      "Requirement already satisfied: pyparsing>=2.0.2 in /Users/rosee.m./opt/anaconda3/lib/python3.8/site-packages (from packaging->py2neo) (2.4.7)\n",
      "\u001b[33mWARNING: There was an error checking the latest version of pip.\u001b[0m\u001b[33m\n",
      "\u001b[0m"
     ]
    }
   ],
   "source": [
    "!pip install py2neo"
   ]
  },
  {
   "cell_type": "code",
   "execution_count": 4,
   "metadata": {},
   "outputs": [],
   "source": [
    "from py2neo import Graph"
   ]
  },
  {
   "cell_type": "code",
   "execution_count": 5,
   "metadata": {},
   "outputs": [],
   "source": [
    "graph = Graph(\"bolt://localhost:7687\", auth=(\"neo4j\", \"password\"))"
   ]
  },
  {
   "cell_type": "code",
   "execution_count": 6,
   "metadata": {},
   "outputs": [
    {
     "data": {
      "text/plain": [
       "py2neo.database.Graph"
      ]
     },
     "execution_count": 6,
     "metadata": {},
     "output_type": "execute_result"
    }
   ],
   "source": [
    "type(graph)"
   ]
  },
  {
   "cell_type": "code",
   "execution_count": 134,
   "metadata": {},
   "outputs": [],
   "source": [
    "import pandas as pd\n",
    "import numpy as np\n",
    "df_empl = pd.read_csv(\"employees.csv\") #employee info\n",
    "df_act = pd.read_csv(\"actors.csv\") #actor info\n",
    "df_hobby = pd.read_csv(\"hobby.csv\") #character hobby info\n",
    "df_hob_pop = pd.read_csv(\"hobby_popularity.csv\") #hobby popularity\n",
    "df_jobs = pd.read_csv(\"jobs.csv\") #character dunder mif job\n",
    "\n",
    "df_jobs.drop([2,11], axis = 0, inplace = True) # drop unnecessary rows\n",
    "df_jobs[\"job\"] = df_jobs[\"job\"].replace(['HR'], 'human resources')\n",
    "df_act.drop([15], axis = 0, inplace = True)\n",
    "df_hobby.drop([13, 14], axis = 0, inplace = True)\n",
    "df_hob_pop.drop([6], axis = 0, inplace = True)"
   ]
  },
  {
   "cell_type": "code",
   "execution_count": 135,
   "metadata": {
    "scrolled": true
   },
   "outputs": [],
   "source": [
    "graph.run(\"MATCH (n) DETACH DELETE n\")\n",
    "from py2neo import Node\n",
    "list = []\n",
    "\n",
    "# populate db with all office character nodes\n",
    "for i in range(0,len(df_empl)):\n",
    "    person = Node(\"Person\", name = df_empl['Employee_Name'].iloc[i], branch = df_empl['last_branch'].iloc[i], episodes = (df_empl['episodes'].iloc[i]).item(), years = (df_empl['years_at_office'].iloc[i]).item(), main_character = (df_empl[\"is_main_character\"].iloc[i]).item())\n",
    "    graph.create(person)\n",
    "    \n",
    "# populate db with all office jobs nodes \n",
    "for i in range(0, len(df_jobs)):\n",
    "    job = Node(\"Job\", name = (df_jobs['job'].iloc[i]).title(), salary = df_jobs['salary'].iloc[i], education = df_jobs['typical educational requirement'].iloc[i])\n",
    "    graph.create(job)\n",
    "\n",
    "#populate db with all actor nodes\n",
    "for i in range(0, len(df_act)):\n",
    "    actor = Node(\"Actor\", name = df_act['name'].iloc[i], age = (df_act['age'].iloc[i]).item(), net_worth = (df_act['net_worth'].iloc[i]).item(), emmy_nominations = (df_act['emmy_nominations'].iloc[i]).item())\n",
    "    graph.create(actor)\n",
    "\n",
    "#populate db with all hobby nodes\n",
    "for i in range(0, len(df_hobby)):\n",
    "    hobby = Node(\"Hobby\", hobby = (df_hobby['hobby'].iloc[i]).title(), cost_level = df_hobby['cost_level'].iloc[i])\n",
    "    graph.create(hobby)\n",
    "    \n",
    "#populate db with all hobby cat nodes\n",
    "for i in range(0, len(df_hob_pop)):\n",
    "    hob_cat = Node(\"Hobby Category\", hobby_category = (df_hob_pop['hobby_category'].iloc[i]).title(), percentage = (df_hob_pop['pop_by_percentage'].iloc[i]).item())\n",
    "    graph.create(hob_cat)\n",
    "\n",
    "#social group nodes    \n",
    "fin_club = Node(\"Social Groups\", name = \"Finer Thing Club\")\n",
    "ppp_c = Node(\"Social Groups\", name = \"Party Planning Committee\")\n",
    "kev_z = Node(\"Social Groups\", name = \"Kevin & the Zits\")\n"
   ]
  },
  {
   "cell_type": "code",
   "execution_count": 136,
   "metadata": {},
   "outputs": [],
   "source": [
    "from py2neo import Relationship\n",
    "WorksAs = Relationship.type(\"WORKS_AS\")\n",
    "ActsAs = Relationship.type(\"ACTS_AS\")\n",
    "HobbyIs = Relationship.type(\"HOBBY_IS\")\n",
    "HobbyCategoryIs = Relationship.type(\"HOBBY_CATEGORY_IS\")\n",
    "Frenemy = Relationship.type(\"FRENEMIES\")\n",
    "Dated = Relationship.type(\"DATED\")\n",
    "Friends = Relationship.type(\"FRIENDS_WITH\")\n",
    "Enemy = Relationship.type(\"ENEMIES\")\n",
    "Assitant = Relationship.type(\"ASSISTANT_TO_REGIONAL_MANAGER\")\n",
    "Married = Relationship.type(\"MARRIED_TO\")\n",
    "IsIn = Relationship.type(\"IS_IN\")\n",
    "NonPermanentM = Relationship.type(\"HONORARY_MEMBER\")\n",
    "Rejected = Relationship.type(\"REJECTED\")\n",
    "\n",
    "from py2neo import Graph, NodeMatcher\n",
    "#graph = Graph(\"bolt://localhost:7687\", auth=(\"neo4j\", \"password\"))\n",
    "matcher = NodeMatcher(graph)\n",
    "\n",
    "\n",
    "for i in range(0,len(df_empl)): #matching character with jobs\n",
    "    empl_job = df_jobs[df_jobs['id'] == df_empl[\"job_ID\"].iloc[i].item()][[\"job\"]].iloc[0][0].title()\n",
    "    per = df_empl[\"Employee_Name\"].iloc[i]\n",
    "    per_node = matcher.match(\"Person\").where(name=per).first()\n",
    "    empl_node = matcher.match(\"Job\").where(name=empl_job).first()\n",
    "    graph.create(WorksAs(per_node, empl_node))\n",
    "    \n",
    "#matching character with actor\n",
    "for i in range(0,len(df_empl)):\n",
    "    empl_act = df_act[df_act['id'] == df_empl[\"actor_ID\"].iloc[i].item()][[\"name\"]].iloc[0][0].title()\n",
    "    per = df_empl[\"Employee_Name\"].iloc[i]\n",
    "    per_node = matcher.match(\"Person\").where(name=per).first()\n",
    "    act_node = matcher.match(\"Actor\").where(name=empl_act).first()\n",
    "    graph.create(ActsAs(act_node, per_node))\n",
    "\n",
    "#matching character with hobby\n",
    "for i in range(0,len(df_empl)): \n",
    "    empl_hob = df_hobby[df_hobby['id'] == df_empl[\"hobby_ID\"].iloc[i].item()][[\"hobby\"]].iloc[0][0].title()\n",
    "    per = df_empl[\"Employee_Name\"].iloc[i]\n",
    "    per_node = matcher.match(\"Person\").where(name=per).first()\n",
    "    hobby_node = matcher.match(\"Hobby\").where(hobby=empl_hob).first()\n",
    "    graph.create(HobbyIs(per_node, hobby_node))\n",
    "\n",
    "#matching hobby with hobby category\n",
    "for i in range(0,len(df_hobby)-1): \n",
    "    hob_c = df_hob_pop[df_hob_pop['hobby_cat_id'] == df_hobby[\"hobby_cat_id\"].iloc[i].item()][[\"hobby_category\"]].iloc[0][0].title()\n",
    "    hobby_b = (df_hobby[\"hobby\"].iloc[i]).title()\n",
    "    hobbyc_node = matcher.match(\"Hobby Category\").where(hobby_category=hob_c).first()\n",
    "    hobby_node = matcher.match(\"Hobby\").where(hobby=hobby_b).first()\n",
    "    graph.create(HobbyCategoryIs(hobby_node, hobbyc_node))\n",
    "    \n",
    "#relationships\n",
    "JIM = matcher.match(\"Person\").where(name=\"Jim Halpert\").first()\n",
    "DWIGHT = matcher.match(\"Person\").where(name=\"Dwight Schrute\").first()\n",
    "KELLY = matcher.match(\"Person\").where(name=\"Kelly Kapoor\").first()\n",
    "RYAN = matcher.match(\"Person\").where(name=\"Ryan Howard\").first()\n",
    "DARRYL = matcher.match(\"Person\").where(name=\"Darryl Philbin\").first()\n",
    "MICHAEL = matcher.match(\"Person\").where(name=\"Michael Scott\").first()\n",
    "JAN = matcher.match(\"Person\").where(name=\"Jan Levinson\").first()\n",
    "ANGELA = matcher.match(\"Person\").where(name=\"Angela Martin\").first()\n",
    "ANDY = matcher.match(\"Person\").where(name=\"Andy Bernard\").first()\n",
    "ERIN = matcher.match(\"Person\").where(name=\"Erin Hannon\").first()\n",
    "PAM = matcher.match(\"Person\").where(name=\"Pam Beesly\").first()\n",
    "OSCAR = matcher.match(\"Person\").where(name=\"Oscar Martinez\").first()\n",
    "TOBY = matcher.match(\"Person\").where(name=\"Toby Flenderson\").first()\n",
    "KEVIN = matcher.match(\"Person\").where(name=\"Kevin Malone\").first()\n",
    "PHYLLIS = matcher.match(\"Person\").where(name=\"Phyllis Vance\").first()\n",
    "\n",
    "graph.create(Frenemy(JIM, DWIGHT))\n",
    "graph.create(Frenemy(DWIGHT, JIM))\n",
    "\n",
    "graph.create(Dated(KELLY, RYAN))\n",
    "graph.create(Dated(RYAN, KELLY))\n",
    "graph.create(Dated(KELLY, DARRYL))\n",
    "graph.create(Dated(DARRYL, KELLY))\n",
    "graph.create(Dated(MICHAEL, JAN))\n",
    "graph.create(Dated(JAN, MICHAEL))\n",
    "graph.create(Dated(ANGELA, ANDY))\n",
    "graph.create(Dated(ANDY, ANGELA))\n",
    "graph.create(Dated(ANDY, ERIN))\n",
    "graph.create(Dated(ERIN, ANDY))\n",
    "\n",
    "graph.create(Friends(MICHAEL, PAM))\n",
    "graph.create(Friends(PAM, MICHAEL))\n",
    "\n",
    "graph.create(Enemy(PAM, ANGELA))\n",
    "graph.create(Enemy(ANGELA, PAM))\n",
    "\n",
    "graph.create(Assitant(DWIGHT, MICHAEL))\n",
    "\n",
    "graph.create(Married(DWIGHT, ANGELA))\n",
    "graph.create(Married(ANGELA, DWIGHT))\n",
    "graph.create(Married(PAM, JIM))\n",
    "graph.create(Married(JIM, PAM))\n",
    "\n",
    "#matching character with social group\n",
    "graph.create(IsIn(PAM, fin_club))\n",
    "graph.create(IsIn(OSCAR, fin_club))\n",
    "graph.create(IsIn(TOBY, fin_club))\n",
    "graph.create(Rejected(fin_club, ANDY))\n",
    "graph.create(NonPermanentM(JIM, fin_club))\n",
    "\n",
    "graph.create(IsIn(PAM, ppp_c))\n",
    "graph.create(IsIn(PHYLLIS, ppp_c))\n",
    "graph.create(IsIn(ANGELA, ppp_c))\n",
    "graph.create(NonPermanentM(KELLY, ppp_c))\n",
    "graph.create(NonPermanentM(RYAN, ppp_c))\n",
    "graph.create(NonPermanentM(OSCAR, ppp_c))\n",
    "\n",
    "graph.create(IsIn(KEVIN, kev_z))\n",
    "graph.create(IsIn(ANDY, kev_z))\n",
    "graph.create(IsIn(DARRYL, kev_z))\n"
   ]
  },
  {
   "cell_type": "code",
   "execution_count": null,
   "metadata": {},
   "outputs": [],
   "source": []
  },
  {
   "cell_type": "code",
   "execution_count": null,
   "metadata": {},
   "outputs": [],
   "source": []
  },
  {
   "cell_type": "code",
   "execution_count": null,
   "metadata": {},
   "outputs": [],
   "source": []
  },
  {
   "cell_type": "code",
   "execution_count": null,
   "metadata": {},
   "outputs": [],
   "source": []
  },
  {
   "cell_type": "code",
   "execution_count": null,
   "metadata": {},
   "outputs": [],
   "source": []
  }
 ],
 "metadata": {
  "kernelspec": {
   "display_name": "Python 3",
   "language": "python",
   "name": "python3"
  },
  "language_info": {
   "codemirror_mode": {
    "name": "ipython",
    "version": 3
   },
   "file_extension": ".py",
   "mimetype": "text/x-python",
   "name": "python",
   "nbconvert_exporter": "python",
   "pygments_lexer": "ipython3",
   "version": "3.8.3"
  }
 },
 "nbformat": 4,
 "nbformat_minor": 4
}
